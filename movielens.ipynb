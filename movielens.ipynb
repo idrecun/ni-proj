{
 "cells": [
  {
   "cell_type": "code",
   "execution_count": 1,
   "metadata": {},
   "outputs": [],
   "source": [
    "import numpy as np\n",
    "import numpy.linalg as LA\n",
    "import pandas as pd\n",
    "import networkx as nx\n",
    "from tqdm.notebook import tqdm\n",
    "from surprise import SVD\n",
    "from surprise import Dataset\n",
    "from surprise import model_selection\n",
    "from surprise import accuracy\n",
    "from surprise import Reader\n",
    "from surprise.prediction_algorithms.predictions import Prediction"
   ]
  },
  {
   "cell_type": "code",
   "execution_count": 2,
   "metadata": {},
   "outputs": [],
   "source": [
    "class PageRankRecommender():\n",
    "    \n",
    "    def __init__(self, alpha, eps = None, max_iter = None, algo = 'sharp'):\n",
    "        \n",
    "        self.alpha = alpha\n",
    "        self.beta = 2 * (1 - alpha) / alpha\n",
    "        self.max_iter = max_iter\n",
    "        self.eps = eps\n",
    "        self.algo = algo\n",
    "        \n",
    "        self.predicted = {}\n",
    "        self.possible_ratings = []\n",
    "    \n",
    "    def __build_graph__(self, data):\n",
    "        G = nx.Graph()\n",
    "        \n",
    "        for user, movie, rating in data.all_ratings():\n",
    "            user_node = ('u', int(data.to_raw_uid(user)))\n",
    "            movie_node = ('m', int(data.to_raw_iid(movie)), rating)\n",
    "            G.add_edge(user_node, movie_node)\n",
    "        \n",
    "        return G\n",
    "    \n",
    "    def __build_val_map__(self, data):\n",
    "        return {(int(user), int(movie)) : float(rating) for (user, movie, rating) in data}\n",
    "    \n",
    "    def fit(self, data, val_data = None):\n",
    "        logging = (val_data is not None)\n",
    "        \n",
    "        self.possible_ratings = sorted(set([rating for (_, _, rating) in data.all_ratings()]))\n",
    "        self.mean_rating = data.global_mean\n",
    "        \n",
    "        G = self.__build_graph__(data)\n",
    "        \n",
    "        node_to_idx = dict(zip(G.nodes, range(len(G))))\n",
    "        users = [node[1] for node in G.nodes if node[0] == 'u']\n",
    "        movies = list(set([node[1] for node in G.nodes if node[0] == 'm']))\n",
    "        \n",
    "        if logging:\n",
    "            val_map = self.__build_val_map__(val_data)\n",
    "            MSE_sum = 0\n",
    "            MSE_cnt = 0\n",
    "        \n",
    "        users_bar = tqdm(users)\n",
    "        for user in users_bar:\n",
    "            t = {node : 0 for node in G.nodes}\n",
    "            t[('u', user)] = 1\n",
    "\n",
    "            if self.algo == 'pagerank':\n",
    "                p = nx.pagerank(G, personalization = t, alpha = self.alpha)\n",
    "            else:\n",
    "                p = self.__sharp_pagerank__(G, node_to_idx, t = t)\n",
    "\n",
    "            for movie in movies:\n",
    "                \n",
    "                weighted_sum = sum([p[('m', movie, rating)] for rating in self.possible_ratings if ('m', movie, rating) in p])\n",
    "                weighted_rating = sum([rating * p[('m', movie, rating)] for rating in self.possible_ratings if ('m', movie, rating) in p])\n",
    "                        \n",
    "                if weighted_sum == 0:\n",
    "                    self.predicted[user, movie] = self.mean_rating\n",
    "                else:\n",
    "                    self.predicted[user, movie] = weighted_rating / weighted_sum\n",
    "                \n",
    "                if logging:\n",
    "                    if (user, movie) in val_map:\n",
    "                        MSE_sum += (val_map[user, movie] - self.predicted[user, movie]) ** 2\n",
    "                        MSE_cnt += 1\n",
    "\n",
    "            if logging and MSE_cnt > 0:\n",
    "                users_bar.set_description(f'MSE = {MSE_sum / MSE_cnt :.5f} | Progress')\n",
    "    \n",
    "    def test(self, data):\n",
    "        predictions = []\n",
    "        \n",
    "        for user, movie, rating in data:\n",
    "            user = int(user)\n",
    "            movie = int(movie)\n",
    "            if (user, movie) in self.predicted:\n",
    "                estimated_rating = self.predicted[user, movie]\n",
    "                details = {'was_impossible' : False}\n",
    "            else:\n",
    "                estimated_rating = self.mean_rating\n",
    "                details = {'was_impossible' : True}\n",
    "            predictions.append(Prediction(uid = user,\n",
    "                                          iid = movie,\n",
    "                                          r_ui = rating,\n",
    "                                          est = estimated_rating,\n",
    "                                          details = details))\n",
    "\n",
    "        return predictions\n",
    "    \n",
    "    def __sharp_push__(self, G, node, node_to_idx, p, r, prob, eps):\n",
    "        u = node_to_idx[node]\n",
    "\n",
    "        upd = r[u] / ((2.0 + self.beta) * G.degree[node])\n",
    "        for node_v in G.neighbors(node):\n",
    "            v = node_to_idx[node_v]\n",
    "            r[v] = r[v] + upd\n",
    "            if r[v] > eps * G.degree[node_v]:\n",
    "                prob.add(node_v)\n",
    "\n",
    "        p[u] = p[u] + self.beta / (2.0 + self.beta) * r[u]\n",
    "        r[u] = r[u] / (2.0 + self.beta)\n",
    "\n",
    "        if r[u] <= eps * G.degree[node]:\n",
    "            prob.remove(node)\n",
    "\n",
    "        return p, r, prob\n",
    "\n",
    "    def __sharp_approximate__(self, G, node_to_idx, s, eps):\n",
    "        p = np.zeros(len(G))\n",
    "        r = s\n",
    "\n",
    "        prob = set([])\n",
    "        for node in G.nodes:\n",
    "            if r[node_to_idx[node]] > eps * G.degree[node]:\n",
    "                prob.add(node)\n",
    "\n",
    "        while prob:\n",
    "            node = next(iter(prob))\n",
    "            p, r, prob = self.__sharp_push__(G, node, node_to_idx, p, r, prob, eps)\n",
    "\n",
    "        return p, r\n",
    "\n",
    "    def __sharp_pagerank__(self, G, node_to_idx, t = None):\n",
    "        n = len(G)\n",
    "\n",
    "        if t is None:\n",
    "            s = np.ones(n) / n\n",
    "        else:\n",
    "            s = np.zeros(n)\n",
    "            for node, tw in t.items():\n",
    "                s[node_to_idx[node]] = tw\n",
    "\n",
    "        c_eps = 1.0\n",
    "        p = np.zeros(n)\n",
    "        r = s\n",
    "\n",
    "        while c_eps > self.eps:\n",
    "            c_eps /= 2\n",
    "            p_d, r_d = self.__sharp_approximate__(G, node_to_idx, r, c_eps)\n",
    "            p += p_d\n",
    "            r = r_d\n",
    "\n",
    "        ret = {node : p[node_to_idx[node]] for node in G.nodes}\n",
    "        return ret"
   ]
  },
  {
   "cell_type": "code",
   "execution_count": 3,
   "metadata": {},
   "outputs": [],
   "source": [
    "data = Dataset.load_builtin('ml-100k')\n",
    "train_data, test_data = model_selection.train_test_split(data, test_size = 0.2)"
   ]
  },
  {
   "cell_type": "code",
   "execution_count": 4,
   "metadata": {},
   "outputs": [
    {
     "data": {
      "application/vnd.jupyter.widget-view+json": {
       "model_id": "3f2b66ce501045ac8f412f2eb665b160",
       "version_major": 2,
       "version_minor": 0
      },
      "text/plain": [
       "HBox(children=(FloatProgress(value=0.0, max=943.0), HTML(value='')))"
      ]
     },
     "metadata": {},
     "output_type": "display_data"
    },
    {
     "name": "stdout",
     "output_type": "stream",
     "text": [
      "\n"
     ]
    }
   ],
   "source": [
    "pr = PageRankRecommender(alpha = 0.7, eps = 1e-6)\n",
    "pr.fit(train_data, val_data = test_data)"
   ]
  },
  {
   "cell_type": "code",
   "execution_count": 5,
   "metadata": {},
   "outputs": [
    {
     "name": "stdout",
     "output_type": "stream",
     "text": [
      "RMSE: 0.9729\n",
      "MAE:  0.7687\n"
     ]
    },
    {
     "data": {
      "text/plain": [
       "0.7687455606101018"
      ]
     },
     "execution_count": 5,
     "metadata": {},
     "output_type": "execute_result"
    }
   ],
   "source": [
    "pr_predictions = pr.test(test_data)\n",
    "accuracy.rmse(pr_predictions)\n",
    "accuracy.mae(pr_predictions)"
   ]
  },
  {
   "cell_type": "code",
   "execution_count": 6,
   "metadata": {},
   "outputs": [
    {
     "data": {
      "text/plain": [
       "<surprise.prediction_algorithms.matrix_factorization.SVD at 0x7f868fa013d0>"
      ]
     },
     "execution_count": 6,
     "metadata": {},
     "output_type": "execute_result"
    }
   ],
   "source": [
    "svd = SVD(n_epochs = 10, lr_all = 0.005, reg_all = 0.4)\n",
    "svd.fit(train_data)"
   ]
  },
  {
   "cell_type": "code",
   "execution_count": 7,
   "metadata": {},
   "outputs": [
    {
     "name": "stdout",
     "output_type": "stream",
     "text": [
      "RMSE: 0.9585\n",
      "MAE:  0.7680\n"
     ]
    },
    {
     "data": {
      "text/plain": [
       "0.7680454477474217"
      ]
     },
     "execution_count": 7,
     "metadata": {},
     "output_type": "execute_result"
    }
   ],
   "source": [
    "predictions = svd.test(test_data)\n",
    "accuracy.rmse(predictions)\n",
    "accuracy.mae(predictions)"
   ]
  }
 ],
 "metadata": {
  "kernelspec": {
   "display_name": "Python 3",
   "language": "python",
   "name": "python3"
  },
  "language_info": {
   "codemirror_mode": {
    "name": "ipython",
    "version": 3
   },
   "file_extension": ".py",
   "mimetype": "text/x-python",
   "name": "python",
   "nbconvert_exporter": "python",
   "pygments_lexer": "ipython3",
   "version": "3.7.6"
  }
 },
 "nbformat": 4,
 "nbformat_minor": 4
}
