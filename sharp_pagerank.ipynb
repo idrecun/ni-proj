{
 "cells": [
  {
   "cell_type": "code",
   "execution_count": 1,
   "metadata": {},
   "outputs": [],
   "source": [
    "import numpy as np\n",
    "import networkx as nx\n",
    "from tqdm.notebook import tqdm\n",
    "from surprise import SVD\n",
    "from surprise import Dataset\n",
    "from surprise import model_selection\n",
    "from surprise import accuracy\n",
    "from surprise import Reader\n",
    "from surprise.prediction_algorithms.predictions import Prediction\n",
    "import itertools"
   ]
  },
  {
   "cell_type": "code",
   "execution_count": 2,
   "metadata": {},
   "outputs": [],
   "source": [
    "class PageRankRecommender():\n",
    "    \n",
    "    def __init__(self, alpha, eps = None, max_iter = None, algo = 'sharp'):\n",
    "        \n",
    "        self.alpha = alpha\n",
    "        self.beta = 2 * (1 - alpha) / alpha\n",
    "        self.max_iter = max_iter\n",
    "        self.eps = eps\n",
    "        self.algo = algo\n",
    "        \n",
    "        self.predicted = {}\n",
    "        self.possible_ratings = []\n",
    "    \n",
    "    def __build_graph(self, data):\n",
    "        G = nx.Graph()\n",
    "        \n",
    "        for user, movie, rating in data.all_ratings():\n",
    "            user_node = ('u', int(data.to_raw_uid(user)))\n",
    "            movie_node = ('m', int(data.to_raw_iid(movie)), rating)\n",
    "            G.add_edge(user_node, movie_node)\n",
    "        \n",
    "        return G\n",
    "    \n",
    "    def __build_val_map(self, data):\n",
    "        return {(int(user), int(movie)) : float(rating) for (user, movie, rating) in data}\n",
    "    \n",
    "    def fit(self, data, val_data = None):\n",
    "        logging = (val_data is not None)\n",
    "        \n",
    "        self.possible_ratings = sorted(set([rating for (_, _, rating) in data.all_ratings()]))\n",
    "        self.mean_rating = data.global_mean\n",
    "        \n",
    "        G = self.__build_graph(data)\n",
    "        \n",
    "        node_to_idx = dict(zip(G.nodes, range(len(G))))\n",
    "        users = [node[1] for node in G.nodes if node[0] == 'u']\n",
    "        movies = list(set([node[1] for node in G.nodes if node[0] == 'm']))\n",
    "        \n",
    "        if logging:\n",
    "            val_map = self.__build_val_map(val_data)\n",
    "            MSE_sum = 0\n",
    "            MSE_cnt = 0\n",
    "        \n",
    "        users_bar = tqdm(users)\n",
    "        for user in users_bar:\n",
    "            t = {node : 0 for node in G.nodes}\n",
    "            t[('u', user)] = 1\n",
    "\n",
    "            if self.algo == 'pagerank':\n",
    "                p = nx.pagerank(G, personalization = t, alpha = self.alpha)\n",
    "            else:\n",
    "                p = self.__sharp_pagerank(G, node_to_idx, t = t)\n",
    "\n",
    "            for movie in movies:\n",
    "                \n",
    "                weighted_sum = sum([p[('m', movie, rating)] for rating in self.possible_ratings if ('m', movie, rating) in p])\n",
    "                weighted_rating = sum([rating * p[('m', movie, rating)] for rating in self.possible_ratings if ('m', movie, rating) in p])\n",
    "                        \n",
    "                if weighted_sum == 0:\n",
    "                    self.predicted[user, movie] = self.mean_rating\n",
    "                else:\n",
    "                    self.predicted[user, movie] = weighted_rating / weighted_sum\n",
    "                \n",
    "                if logging:\n",
    "                    if (user, movie) in val_map:\n",
    "                        MSE_sum += (val_map[user, movie] - self.predicted[user, movie]) ** 2\n",
    "                        MSE_cnt += 1\n",
    "\n",
    "            if logging and MSE_cnt > 0:\n",
    "                users_bar.set_description(f'Alpha = {self.alpha}  eps = {self.eps}  RMSE = {np.sqrt(MSE_sum / MSE_cnt) :.5f} | ')\n",
    "    \n",
    "    def test(self, data):\n",
    "        predictions = []\n",
    "        \n",
    "        for user, movie, rating in data:\n",
    "            user = int(user)\n",
    "            movie = int(movie)\n",
    "            if (user, movie) in self.predicted:\n",
    "                estimated_rating = self.predicted[user, movie]\n",
    "                details = {'was_impossible' : False}\n",
    "            else:\n",
    "                estimated_rating = self.mean_rating\n",
    "                details = {'was_impossible' : True}\n",
    "            predictions.append(Prediction(uid = user,\n",
    "                                          iid = movie,\n",
    "                                          r_ui = rating,\n",
    "                                          est = estimated_rating,\n",
    "                                          details = details))\n",
    "\n",
    "        return predictions\n",
    "    \n",
    "    def __pr_push(self, G, node, node_to_idx, p, r, prob, eps):\n",
    "        u = node_to_idx[node]\n",
    "\n",
    "        upd = r[u] / ((2.0 + self.beta) * G.degree[node])\n",
    "        for node_v in G.neighbors(node):\n",
    "            v = node_to_idx[node_v]\n",
    "            r[v] = r[v] + upd\n",
    "            if r[v] > eps * G.degree[node_v]:\n",
    "                prob.add(node_v)\n",
    "\n",
    "        p[u] = p[u] + self.beta / (2.0 + self.beta) * r[u]\n",
    "        r[u] = r[u] / (2.0 + self.beta)\n",
    "\n",
    "        if r[u] <= eps * G.degree[node]:\n",
    "            prob.remove(node)\n",
    "\n",
    "        return p, r, prob\n",
    "\n",
    "    def __pr_approximate(self, G, node_to_idx, s, eps):\n",
    "        p = np.zeros(len(G))\n",
    "        r = s\n",
    "\n",
    "        prob = set([])\n",
    "        for node in G.nodes:\n",
    "            if r[node_to_idx[node]] > eps * G.degree[node]:\n",
    "                prob.add(node)\n",
    "\n",
    "        while prob:\n",
    "            node = next(iter(prob))\n",
    "            p, r, prob = self.__pr_push(G, node, node_to_idx, p, r, prob, eps)\n",
    "\n",
    "        return p, r\n",
    "\n",
    "    def __sharp_pagerank(self, G, node_to_idx, t = None):\n",
    "        n = len(G)\n",
    "\n",
    "        if t is None:\n",
    "            s = np.ones(n) / n\n",
    "        else:\n",
    "            s = np.zeros(n)\n",
    "            for node, tw in t.items():\n",
    "                s[node_to_idx[node]] = tw\n",
    "\n",
    "        c_eps = 1.0\n",
    "        p = np.zeros(n)\n",
    "        r = s\n",
    "\n",
    "        while c_eps > self.eps:\n",
    "            c_eps /= 2\n",
    "            p_d, r_d = self.__pr_approximate(G, node_to_idx, r, c_eps)\n",
    "            p += p_d\n",
    "            r = r_d\n",
    "\n",
    "        ret = {node : p[node_to_idx[node]] for node in G.nodes}\n",
    "        return ret"
   ]
  },
  {
   "cell_type": "code",
   "execution_count": 3,
   "metadata": {},
   "outputs": [
    {
     "data": {
      "application/vnd.jupyter.widget-view+json": {
       "model_id": "7473f73b1e2e4a889f4adc5754277db6",
       "version_major": 2,
       "version_minor": 0
      },
      "text/plain": [
       "HBox(children=(FloatProgress(value=0.0, max=943.0), HTML(value='')))"
      ]
     },
     "metadata": {},
     "output_type": "display_data"
    },
    {
     "name": "stdout",
     "output_type": "stream",
     "text": [
      "\n",
      "RMSE: 0.9883\n"
     ]
    },
    {
     "data": {
      "application/vnd.jupyter.widget-view+json": {
       "model_id": "1870ac7ba3704f86b878d7a1a7bb942b",
       "version_major": 2,
       "version_minor": 0
      },
      "text/plain": [
       "HBox(children=(FloatProgress(value=0.0, max=943.0), HTML(value='')))"
      ]
     },
     "metadata": {},
     "output_type": "display_data"
    },
    {
     "name": "stdout",
     "output_type": "stream",
     "text": [
      "\n",
      "RMSE: 0.9874\n"
     ]
    },
    {
     "data": {
      "application/vnd.jupyter.widget-view+json": {
       "model_id": "cda2f2de92d94c45bb5eb631d521edca",
       "version_major": 2,
       "version_minor": 0
      },
      "text/plain": [
       "HBox(children=(FloatProgress(value=0.0, max=943.0), HTML(value='')))"
      ]
     },
     "metadata": {},
     "output_type": "display_data"
    },
    {
     "name": "stdout",
     "output_type": "stream",
     "text": [
      "\n",
      "RMSE: 0.9868\n"
     ]
    },
    {
     "data": {
      "application/vnd.jupyter.widget-view+json": {
       "model_id": "cef1cb5181cc46ed8faf91ba1cd68a99",
       "version_major": 2,
       "version_minor": 0
      },
      "text/plain": [
       "HBox(children=(FloatProgress(value=0.0, max=943.0), HTML(value='')))"
      ]
     },
     "metadata": {},
     "output_type": "display_data"
    },
    {
     "name": "stdout",
     "output_type": "stream",
     "text": [
      "\n",
      "RMSE: 0.9887\n"
     ]
    },
    {
     "data": {
      "application/vnd.jupyter.widget-view+json": {
       "model_id": "cc8d6b3279954ee18b4a7a2c92543e4f",
       "version_major": 2,
       "version_minor": 0
      },
      "text/plain": [
       "HBox(children=(FloatProgress(value=0.0, max=943.0), HTML(value='')))"
      ]
     },
     "metadata": {},
     "output_type": "display_data"
    },
    {
     "name": "stdout",
     "output_type": "stream",
     "text": [
      "\n",
      "RMSE: 0.9911\n"
     ]
    }
   ],
   "source": [
    "data = Dataset.load_builtin('ml-100k')\n",
    "train_data, test_val_data = model_selection.train_test_split(data, test_size = 0.3, random_state = 0)\n",
    "val_data = test_val_data[:len(test_val_data) // 2]\n",
    "test_data = test_val_data[len(test_val_data) // 2:]\n",
    "\n",
    "alphas = [0.67, 0.68, 0.69, 0.7, 0.71]\n",
    "epss = [1e-6]\n",
    "\n",
    "models = {}\n",
    "best_model = None\n",
    "for alpha, eps in itertools.product(alphas, epss):\n",
    "    model = PageRankRecommender(alpha = alpha, eps = eps)\n",
    "    model.fit(train_data, val_data = val_data)\n",
    "    model_predictions = model.test(val_data)\n",
    "    models[alpha, eps] = accuracy.rmse(model_predictions)\n",
    "    if best_model is None or models[best_model] > models[alpha, eps]:\n",
    "        best_model = (alpha, eps)\n",
    "alpha, eps = best_model"
   ]
  },
  {
   "cell_type": "code",
   "execution_count": 4,
   "metadata": {},
   "outputs": [
    {
     "data": {
      "application/vnd.jupyter.widget-view+json": {
       "model_id": "9bfcd48d54404348831e3e6d8a36a773",
       "version_major": 2,
       "version_minor": 0
      },
      "text/plain": [
       "HBox(children=(FloatProgress(value=0.0, max=943.0), HTML(value='')))"
      ]
     },
     "metadata": {},
     "output_type": "display_data"
    },
    {
     "name": "stdout",
     "output_type": "stream",
     "text": [
      "\n"
     ]
    }
   ],
   "source": [
    "train_data, test_data = model_selection.train_test_split(data, test_size = 0.15, random_state = 0)\n",
    "\n",
    "pr = PageRankRecommender(alpha = alpha, eps = eps)\n",
    "pr.fit(train_data, val_data = test_data)"
   ]
  },
  {
   "cell_type": "code",
   "execution_count": 5,
   "metadata": {},
   "outputs": [
    {
     "name": "stdout",
     "output_type": "stream",
     "text": [
      "RMSE: 0.9820\n",
      "MAE:  0.7787\n"
     ]
    },
    {
     "data": {
      "text/plain": [
       "0.778691524805644"
      ]
     },
     "execution_count": 5,
     "metadata": {},
     "output_type": "execute_result"
    }
   ],
   "source": [
    "pr_predictions = pr.test(test_data)\n",
    "accuracy.rmse(pr_predictions)\n",
    "accuracy.mae(pr_predictions)"
   ]
  },
  {
   "cell_type": "code",
   "execution_count": 6,
   "metadata": {},
   "outputs": [
    {
     "data": {
      "text/plain": [
       "<surprise.prediction_algorithms.matrix_factorization.SVD at 0x7efed82db3d0>"
      ]
     },
     "execution_count": 6,
     "metadata": {},
     "output_type": "execute_result"
    }
   ],
   "source": [
    "svd = SVD(n_epochs = 10, lr_all = 0.005, reg_all = 0.4)\n",
    "svd.fit(train_data)"
   ]
  },
  {
   "cell_type": "code",
   "execution_count": 7,
   "metadata": {},
   "outputs": [
    {
     "name": "stdout",
     "output_type": "stream",
     "text": [
      "RMSE: 0.9669\n",
      "MAE:  0.7753\n"
     ]
    },
    {
     "data": {
      "text/plain": [
       "0.7752966269145634"
      ]
     },
     "execution_count": 7,
     "metadata": {},
     "output_type": "execute_result"
    }
   ],
   "source": [
    "predictions = svd.test(test_data)\n",
    "accuracy.rmse(predictions)\n",
    "accuracy.mae(predictions)"
   ]
  },
  {
   "cell_type": "code",
   "execution_count": 8,
   "metadata": {},
   "outputs": [
    {
     "data": {
      "application/vnd.jupyter.widget-view+json": {
       "model_id": "cc23669315eb4b338a4de171ab38aae3",
       "version_major": 2,
       "version_minor": 0
      },
      "text/plain": [
       "HBox(children=(FloatProgress(value=0.0, max=943.0), HTML(value='')))"
      ]
     },
     "metadata": {},
     "output_type": "display_data"
    },
    {
     "name": "stdout",
     "output_type": "stream",
     "text": [
      "\n",
      "RMSE: 1.0023\n",
      "MAE:  0.8009\n"
     ]
    },
    {
     "data": {
      "text/plain": [
       "0.800919981762826"
      ]
     },
     "execution_count": 8,
     "metadata": {},
     "output_type": "execute_result"
    }
   ],
   "source": [
    "pr_vanilla = PageRankRecommender(alpha = alpha, eps = eps, algo = 'pagerank')\n",
    "pr_vanilla.fit(train_data, val_data = test_data)\n",
    "\n",
    "prv_predictions = pr_vanilla.test(test_data)\n",
    "accuracy.rmse(prv_predictions)\n",
    "accuracy.mae(prv_predictions)"
   ]
  }
 ],
 "metadata": {
  "kernelspec": {
   "display_name": "Python 3",
   "language": "python",
   "name": "python3"
  },
  "language_info": {
   "codemirror_mode": {
    "name": "ipython",
    "version": 3
   },
   "file_extension": ".py",
   "mimetype": "text/x-python",
   "name": "python",
   "nbconvert_exporter": "python",
   "pygments_lexer": "ipython3",
   "version": "3.7.6"
  }
 },
 "nbformat": 4,
 "nbformat_minor": 4
}
