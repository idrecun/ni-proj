{
 "cells": [
  {
   "cell_type": "markdown",
   "metadata": {},
   "source": [
    "## Personalizovani PageRank za sistem preporuka\n",
    "\n",
    "PageRank je algoritam za određivanje verovatnoća posećivanja čvorova grafa pri slučajnim šetnjama. Nastao je kao algoritam za rangiranje internet stranica i samim tim je pogodan u primeni kod sistema preporuka. Prikazana je njegova upotreba za predviđanje korisničkih ocena filmova na *MovieLens 100K* (https://grouplens.org/datasets/movielens/100k/) skupu podataka.\n",
    "\n",
    "Personalizovani PageRank algoritam pretpostavlja da je u slučajnoj šetnji verovatnoća prelaska na svaki susedan čvor jednaka. Verovatnoće prelaska predstavljene su matricom $P$. Takođe, pretpostavlja postojanje određene verovatnoće teleportacije određene konstantom $1 - \\alpha$ i vekotorom presonalizacije $s$. Vektor stacionarne raspodele verovatnoća (rangova) čvorova može se izraziti na sledeći način: $$ p = (1 - \\alpha) s + \\alpha P p $$\n",
    "\n",
    "$p$ se određuje kao sopstveni vektor matrice $(1 - \\alpha) s e^T + \\alpha P$ metodom stepenovanja.\n",
    "\n",
    "Jednostavna modifikacija algoritma je pretpostavka da su slučajne šetnje lenje. Matrica verovatnoća prelaska je pri ovoj modifikaciji $Z = \\frac{I + P}{2}$. Može se pokazati da su ove dve formulacije algoritma ekvivalentne do na promenu konstante $\\alpha$.\n",
    "\n",
    "Primenjujemo algoritam aproksimacije ove varijante personalizovanog PageRank algoritma. Ideja je početi od vektora personalizacije i \"gurati\" verovatnoću na susedne čvorove dokle god ne dobijemo željenu preciznost aproksimacije. Algoritam je složenosti $O(\\frac{m \\log \\epsilon}{1-\\alpha})$."
   ]
  },
  {
   "cell_type": "code",
   "execution_count": 1,
   "metadata": {},
   "outputs": [],
   "source": [
    "import numpy as np\n",
    "import networkx as nx\n",
    "import matplotlib.pyplot as plt\n",
    "from tqdm.notebook import tqdm\n",
    "from surprise import SVD\n",
    "from surprise import Dataset\n",
    "from surprise import model_selection\n",
    "from surprise import accuracy\n",
    "from surprise import Reader\n",
    "from surprise.prediction_algorithms.predictions import Prediction\n",
    "from time import time"
   ]
  },
  {
   "cell_type": "code",
   "execution_count": 2,
   "metadata": {},
   "outputs": [],
   "source": [
    "class PageRankRecommender():\n",
    "    \n",
    "    '''Rating prediction algorithm using PageRank\n",
    "    \n",
    "    A personalized PageRank is used to calculate the stationary distribution\n",
    "    of all movie-rating pairs for a given user. The predictions for a particular\n",
    "    movie are then taken to be the expected value over the movie-rating nodes.\n",
    "    \n",
    "    Args:\n",
    "        alpha: The parameter used in the PageRank algorithm. Probability of \n",
    "            teleportation is 1 - alpha.\n",
    "        eps: Tolerance used to check convergence when using the PageRank\n",
    "            approximation algorithm. Default is ``1e-6``.\n",
    "        algo: If ``\"sharp\"`` the PageRank approximation algorithm is used.\n",
    "            If ``\"pagerank\"`` the default networkx implementation is used.\n",
    "            Default is ``\"sharp\"``.\n",
    "    '''\n",
    "    \n",
    "    # Algoritam za predviđanje ocena pomoću PageRank-a\n",
    "    #\n",
    "    # Presonalizovani PageRank se koristi za izračunavanje stacionarne\n",
    "    # respodele svih parova film-ocena za datog korisnika. Predviđene\n",
    "    # ocene za konkretan film se onda računaju kao očekivana vrednost\n",
    "    # po film-ocena čvorovima.\n",
    "    #\n",
    "    # Args:\n",
    "    #     alpha: Parametar korišćen u PageRank algoritmu. Verovatnoća\n",
    "    #         teleportacije je 1 - alpha.\n",
    "    #     eps: Tolerancija korišćena pri ispitivanju konvergencije kada\n",
    "    #         se koristi algoritam za aproksimaciju PageRank-a.\n",
    "    #         Podrazumevano je 1e-6.\n",
    "    #     algo: Ako je \"sharp\" koristi se algoritam aproksimacije.\n",
    "    #         Ako je \"pagerank\" koristi se običan PageRank.\n",
    "    #         Podrazumevano je \"sharp\".\n",
    "    \n",
    "    def __init__(self, alpha, eps = 1e-6, algo = 'sharp'):\n",
    "        \n",
    "        self.alpha = alpha\n",
    "        self.beta = 2 * (1 - alpha) / alpha\n",
    "        self.eps = eps\n",
    "        self.algo = algo\n",
    "        \n",
    "        self.predicted = {}\n",
    "        self.possible_ratings = []\n",
    "    \n",
    "    def __build_graph(self, data):\n",
    "        \n",
    "        # Builds a graph from the (user, movie, rating) tuples.\n",
    "        # Each user is associated with the vertex ('u', user_id).\n",
    "        # Each movie-rating pair is associated with the vertex\n",
    "        # ('m', movie_id, rating). An edge is then added connecting\n",
    "        # the user node and the movie-rating node.\n",
    "        \n",
    "        # Formira graf na osnovu (user, movie, rating) torki.\n",
    "        # Svakom korisniku je dodeljen čvor ('u', user_id).\n",
    "        # Svakom paru film-ocena je dodeljen čvor\n",
    "        # ('m', movie_id, rating). Grana se zatim dodaje tako da\n",
    "        # povezuje čvor korisnika i čvor para film-ocena.\n",
    "        \n",
    "        G = nx.Graph()\n",
    "        \n",
    "        for user, movie, rating in data.all_ratings():\n",
    "            user_node = ('u', int(data.to_raw_uid(user)))\n",
    "            movie_node = ('m', int(data.to_raw_iid(movie)), rating)\n",
    "            G.add_edge(user_node, movie_node)\n",
    "        \n",
    "        return G\n",
    "    \n",
    "    def fit(self, data, val_data = None):\n",
    "        \n",
    "        # Calculates predictions for all user-movie pairs in the\n",
    "        # dataset. For each user, it does so by first calculating\n",
    "        # the personalized PageRank rankings of all vertices of the graph\n",
    "        # with the personalization vector set to t[user] = 1. Afterwards,\n",
    "        # the user rating for each movie is calculated as a weighted\n",
    "        # average of all ratings with weights being the personalized\n",
    "        # rankings of the nodes associated with the movie-rating pair.\n",
    "        # If validation data is given, output the RMSE at every step.\n",
    "        \n",
    "        # Računa predviđanja za sve parove korisnik-film u skupu\n",
    "        # podataka. Za svakog korisnika se prvo računaju personalizovani\n",
    "        # PageRank rangovi svih čvorova grafa pri čemu je vektor\n",
    "        # personalizacije postavljen na t[korisnik] = 1. Nakon toga,\n",
    "        # korisnička ocena svakog filma se računa kao težinski\n",
    "        # prosek svih ocena, gde su težine zapravo personalizovani\n",
    "        # rangovi čvorova dodeljenih parovima film-ocena.\n",
    "        # Ukoliko su dati podaci za validaciju, prikazuje RMSE u\n",
    "        # svakom koraku.\n",
    "        \n",
    "        logging = (val_data is not None)\n",
    "        \n",
    "        self.possible_ratings = sorted(set([rating for (_, _, rating) in data.all_ratings()]))\n",
    "        self.mean_rating = data.global_mean\n",
    "        \n",
    "        G = self.__build_graph(data)\n",
    "        \n",
    "        node_to_idx = dict(zip(G.nodes, range(len(G))))\n",
    "        users = [node[1] for node in G.nodes if node[0] == 'u']\n",
    "        movies = list(set([node[1] for node in G.nodes if node[0] == 'm']))\n",
    "        \n",
    "        if logging:\n",
    "            val_map = {(int(user), int(movie)) : float(rating) for (user, movie, rating) in val_data}\n",
    "            MSE_sum = 0\n",
    "            MSE_cnt = 0\n",
    "        \n",
    "        users_bar = tqdm(users)\n",
    "        for user in users_bar:\n",
    "            t = {node : 0 for node in G.nodes}\n",
    "            t[('u', user)] = 1\n",
    "\n",
    "            if self.algo == 'pagerank':\n",
    "                p = nx.pagerank(G, personalization = t, alpha = self.alpha)\n",
    "            else:\n",
    "                p = self.__sharp_pagerank(G, node_to_idx, t = t)\n",
    "\n",
    "            for movie in movies:\n",
    "                \n",
    "                weighted_sum = sum([p[('m', movie, rating)] for rating in self.possible_ratings if ('m', movie, rating) in p])\n",
    "                weighted_rating = sum([rating * p[('m', movie, rating)] for rating in self.possible_ratings if ('m', movie, rating) in p])\n",
    "                        \n",
    "                if weighted_sum == 0:\n",
    "                    self.predicted[user, movie] = self.mean_rating\n",
    "                else:\n",
    "                    self.predicted[user, movie] = weighted_rating / weighted_sum\n",
    "                \n",
    "                if logging:\n",
    "                    if (user, movie) in val_map:\n",
    "                        MSE_sum += (val_map[user, movie] - self.predicted[user, movie]) ** 2\n",
    "                        MSE_cnt += 1\n",
    "\n",
    "            if logging and MSE_cnt > 0:\n",
    "                users_bar.set_description(f'Alpha = {self.alpha :.2f}  RMSE = {np.sqrt(MSE_sum / MSE_cnt) :.5f} | Progress ')\n",
    "    \n",
    "    def test(self, data):\n",
    "        \n",
    "        # Outputs the calculated predictions for each user-movie pair.\n",
    "        # If a prediction could not be made the mean value of all\n",
    "        # ratings from the training data is used.\n",
    "        \n",
    "        # Vraća izračunata predviđanja za svaki par korisnik-film.\n",
    "        # Ukoliko predviđanje nije bilo moguće izračunati koristi\n",
    "        # se srednja vrednost svih ocena iz trening skupa.\n",
    "        \n",
    "        predictions = []\n",
    "        \n",
    "        for user, movie, rating in data:\n",
    "            user = int(user)\n",
    "            movie = int(movie)\n",
    "            if (user, movie) in self.predicted:\n",
    "                estimated_rating = self.predicted[user, movie]\n",
    "                details = {'was_impossible' : False}\n",
    "            else:\n",
    "                estimated_rating = self.mean_rating\n",
    "                details = {'was_impossible' : True}\n",
    "            predictions.append(Prediction(uid = user,\n",
    "                                          iid = movie,\n",
    "                                          r_ui = rating,\n",
    "                                          est = estimated_rating,\n",
    "                                          details = details))\n",
    "\n",
    "        return predictions\n",
    "    \n",
    "    def __pr_push(self, G, node, node_to_idx, p, r, prob, eps):\n",
    "        \n",
    "        # Implements the Push subroutine of the sharp PageRank\n",
    "        # approximation algorithm.\n",
    "        \n",
    "        # Implementira Push proceduru algoritma aproksimacije\n",
    "        # PageRank-a.\n",
    "        \n",
    "        u = node_to_idx[node]\n",
    "\n",
    "        upd = r[u] / ((2.0 + self.beta) * G.degree[node])\n",
    "        for node_v in G.neighbors(node):\n",
    "            v = node_to_idx[node_v]\n",
    "            r[v] = r[v] + upd\n",
    "            if r[v] > eps * G.degree[node_v]:\n",
    "                prob.add(node_v)\n",
    "\n",
    "        p[u] = p[u] + self.beta / (2.0 + self.beta) * r[u]\n",
    "        r[u] = r[u] / (2.0 + self.beta)\n",
    "\n",
    "        if r[u] <= eps * G.degree[node]:\n",
    "            prob.remove(node)\n",
    "\n",
    "        return p, r, prob\n",
    "\n",
    "    def __pr_approximate(self, G, node_to_idx, s, eps):\n",
    "        \n",
    "        # Implements the ApproximatePR subroutine of the sharp\n",
    "        # PageRank approximation algorithm.\n",
    "        \n",
    "        # Implementira ApproximatePR proceduru algoritma\n",
    "        # aproksimacije PageRank-a.\n",
    "        \n",
    "        p = np.zeros(len(G))\n",
    "        r = s\n",
    "\n",
    "        prob = set([])\n",
    "        for node in G.nodes:\n",
    "            if r[node_to_idx[node]] > eps * G.degree[node]:\n",
    "                prob.add(node)\n",
    "\n",
    "        while prob:\n",
    "            node = next(iter(prob))\n",
    "            p, r, prob = self.__pr_push(G, node, node_to_idx, p, r, prob, eps)\n",
    "\n",
    "        return p, r\n",
    "\n",
    "    def __sharp_pagerank(self, G, node_to_idx, t = None):\n",
    "        \n",
    "        # Implements the main loop of the sharp PageRank\n",
    "        # approximation algorithm.\n",
    "        \n",
    "        # Implementira glavnu petlju algoritma aproksimacije\n",
    "        # PageRank-a.\n",
    "        \n",
    "        n = len(G)\n",
    "\n",
    "        if t is None:\n",
    "            s = np.ones(n) / n\n",
    "        else:\n",
    "            s = np.zeros(n)\n",
    "            for node, tw in t.items():\n",
    "                s[node_to_idx[node]] = tw\n",
    "\n",
    "        c_eps = 1.0\n",
    "        p = np.zeros(n)\n",
    "        r = s\n",
    "\n",
    "        while c_eps > self.eps:\n",
    "            c_eps /= 2\n",
    "            p_d, r_d = self.__pr_approximate(G, node_to_idx, r, c_eps)\n",
    "            p += p_d\n",
    "            r = r_d\n",
    "\n",
    "        ret = {node : p[node_to_idx[node]] for node in G.nodes}\n",
    "        return ret"
   ]
  },
  {
   "cell_type": "markdown",
   "metadata": {},
   "source": [
    "Koristimo skup podataka *MovieLens 100K* pomoću funkcije za preuzimanje ugrađenih skupova podataka modula *Surprise*. Skup se sastoji od niza uređenih trojki tipa (user_id, movie_id, rating). Podatke delimo na skup za treniranje, validaciju i testiranje u odnosima 70:15:15. Ovo radimo kako bismo validacijom odabrali pogodnu vrednost za metaparametar $\\alpha$ PageRank algoritma.\n",
    "\n",
    "Jedna napomena je da se tip podataka skupa za treniranje razlikuje od tipa podataka skupa za validaciju i testiranje, pa kada se konačno vrši testiranje potrebno je ponovo uraditi razlaganje početnog skupa podataka, ovog puta na skup za treniranje i testiranje u odnosu 85:15. Vodimo računa da koristimo istu vrednost za *random_state* parametar."
   ]
  },
  {
   "cell_type": "code",
   "execution_count": 3,
   "metadata": {},
   "outputs": [],
   "source": [
    "data = Dataset.load_builtin('ml-100k')\n",
    "train_data, test_val_data = model_selection.train_test_split(data, test_size = 0.3, random_state = 0)\n",
    "val_data = test_val_data[:len(test_val_data) // 2]"
   ]
  },
  {
   "cell_type": "code",
   "execution_count": 4,
   "metadata": {
    "scrolled": true
   },
   "outputs": [
    {
     "data": {
      "application/vnd.jupyter.widget-view+json": {
       "model_id": "c0f478e1393843308825149d3b59cab8",
       "version_major": 2,
       "version_minor": 0
      },
      "text/plain": [
       "HBox(children=(FloatProgress(value=0.0, max=943.0), HTML(value='')))"
      ]
     },
     "metadata": {},
     "output_type": "display_data"
    },
    {
     "name": "stdout",
     "output_type": "stream",
     "text": [
      "\n",
      "RMSE: 1.1549\n"
     ]
    },
    {
     "data": {
      "application/vnd.jupyter.widget-view+json": {
       "model_id": "0c37c3f15c6e427fac3249547151d403",
       "version_major": 2,
       "version_minor": 0
      },
      "text/plain": [
       "HBox(children=(FloatProgress(value=0.0, max=943.0), HTML(value='')))"
      ]
     },
     "metadata": {},
     "output_type": "display_data"
    },
    {
     "name": "stdout",
     "output_type": "stream",
     "text": [
      "\n",
      "RMSE: 1.1742\n"
     ]
    },
    {
     "data": {
      "application/vnd.jupyter.widget-view+json": {
       "model_id": "7c850b90b59847b090a5b6de48de25ce",
       "version_major": 2,
       "version_minor": 0
      },
      "text/plain": [
       "HBox(children=(FloatProgress(value=0.0, max=943.0), HTML(value='')))"
      ]
     },
     "metadata": {},
     "output_type": "display_data"
    },
    {
     "name": "stdout",
     "output_type": "stream",
     "text": [
      "\n",
      "RMSE: 1.2210\n"
     ]
    },
    {
     "data": {
      "application/vnd.jupyter.widget-view+json": {
       "model_id": "8337076f3ac843a0bc7e1e929f46b47a",
       "version_major": 2,
       "version_minor": 0
      },
      "text/plain": [
       "HBox(children=(FloatProgress(value=0.0, max=943.0), HTML(value='')))"
      ]
     },
     "metadata": {},
     "output_type": "display_data"
    },
    {
     "name": "stdout",
     "output_type": "stream",
     "text": [
      "\n",
      "RMSE: 1.3250\n"
     ]
    },
    {
     "data": {
      "application/vnd.jupyter.widget-view+json": {
       "model_id": "7024abcc134a49de9bc6b3a49e1d2b38",
       "version_major": 2,
       "version_minor": 0
      },
      "text/plain": [
       "HBox(children=(FloatProgress(value=0.0, max=943.0), HTML(value='')))"
      ]
     },
     "metadata": {},
     "output_type": "display_data"
    },
    {
     "name": "stdout",
     "output_type": "stream",
     "text": [
      "\n",
      "RMSE: 1.1620\n"
     ]
    },
    {
     "data": {
      "application/vnd.jupyter.widget-view+json": {
       "model_id": "0a574b96330945598f88acddbd1259e3",
       "version_major": 2,
       "version_minor": 0
      },
      "text/plain": [
       "HBox(children=(FloatProgress(value=0.0, max=943.0), HTML(value='')))"
      ]
     },
     "metadata": {},
     "output_type": "display_data"
    },
    {
     "name": "stdout",
     "output_type": "stream",
     "text": [
      "\n",
      "RMSE: 0.9943\n"
     ]
    },
    {
     "data": {
      "application/vnd.jupyter.widget-view+json": {
       "model_id": "7ad026fe89f74541af85783d144472da",
       "version_major": 2,
       "version_minor": 0
      },
      "text/plain": [
       "HBox(children=(FloatProgress(value=0.0, max=943.0), HTML(value='')))"
      ]
     },
     "metadata": {},
     "output_type": "display_data"
    },
    {
     "name": "stdout",
     "output_type": "stream",
     "text": [
      "\n",
      "RMSE: 0.9894\n"
     ]
    },
    {
     "data": {
      "application/vnd.jupyter.widget-view+json": {
       "model_id": "8ef529fde004443da15b4955513a377e",
       "version_major": 2,
       "version_minor": 0
      },
      "text/plain": [
       "HBox(children=(FloatProgress(value=0.0, max=943.0), HTML(value='')))"
      ]
     },
     "metadata": {},
     "output_type": "display_data"
    },
    {
     "name": "stdout",
     "output_type": "stream",
     "text": [
      "\n",
      "RMSE: 0.9940\n"
     ]
    },
    {
     "data": {
      "application/vnd.jupyter.widget-view+json": {
       "model_id": "5f615794c9804410b4be752440629660",
       "version_major": 2,
       "version_minor": 0
      },
      "text/plain": [
       "HBox(children=(FloatProgress(value=0.0, max=943.0), HTML(value='')))"
      ]
     },
     "metadata": {},
     "output_type": "display_data"
    },
    {
     "name": "stdout",
     "output_type": "stream",
     "text": [
      "\n",
      "RMSE: 0.9987\n"
     ]
    },
    {
     "data": {
      "application/vnd.jupyter.widget-view+json": {
       "model_id": "78458ba605dc4f85a399a4dbc06f48de",
       "version_major": 2,
       "version_minor": 0
      },
      "text/plain": [
       "HBox(children=(FloatProgress(value=0.0, max=943.0), HTML(value='')))"
      ]
     },
     "metadata": {},
     "output_type": "display_data"
    },
    {
     "name": "stdout",
     "output_type": "stream",
     "text": [
      "\n",
      "RMSE: 1.0002\n"
     ]
    },
    {
     "data": {
      "application/vnd.jupyter.widget-view+json": {
       "model_id": "3b8522464af548ec9bf7e69afd687804",
       "version_major": 2,
       "version_minor": 0
      },
      "text/plain": [
       "HBox(children=(FloatProgress(value=0.0, max=943.0), HTML(value='')))"
      ]
     },
     "metadata": {},
     "output_type": "display_data"
    },
    {
     "name": "stdout",
     "output_type": "stream",
     "text": [
      "\n",
      "RMSE: 1.0005\n"
     ]
    },
    {
     "data": {
      "application/vnd.jupyter.widget-view+json": {
       "model_id": "8f6a5f072ef1471687772fae1be099a0",
       "version_major": 2,
       "version_minor": 0
      },
      "text/plain": [
       "HBox(children=(FloatProgress(value=0.0, max=943.0), HTML(value='')))"
      ]
     },
     "metadata": {},
     "output_type": "display_data"
    },
    {
     "name": "stdout",
     "output_type": "stream",
     "text": [
      "\n",
      "RMSE: 1.0017\n"
     ]
    },
    {
     "data": {
      "application/vnd.jupyter.widget-view+json": {
       "model_id": "afba16758f3d4206852fb3c7854f956f",
       "version_major": 2,
       "version_minor": 0
      },
      "text/plain": [
       "HBox(children=(FloatProgress(value=0.0, max=943.0), HTML(value='')))"
      ]
     },
     "metadata": {},
     "output_type": "display_data"
    },
    {
     "name": "stdout",
     "output_type": "stream",
     "text": [
      "\n",
      "RMSE: 1.0032\n"
     ]
    },
    {
     "data": {
      "application/vnd.jupyter.widget-view+json": {
       "model_id": "0388b1b3c38047e082697844bcb3d361",
       "version_major": 2,
       "version_minor": 0
      },
      "text/plain": [
       "HBox(children=(FloatProgress(value=0.0, max=943.0), HTML(value='')))"
      ]
     },
     "metadata": {},
     "output_type": "display_data"
    },
    {
     "name": "stdout",
     "output_type": "stream",
     "text": [
      "\n",
      "RMSE: 1.0047\n"
     ]
    },
    {
     "data": {
      "application/vnd.jupyter.widget-view+json": {
       "model_id": "6e5cd4dd8b7b478f99dc98be61a20545",
       "version_major": 2,
       "version_minor": 0
      },
      "text/plain": [
       "HBox(children=(FloatProgress(value=0.0, max=943.0), HTML(value='')))"
      ]
     },
     "metadata": {},
     "output_type": "display_data"
    },
    {
     "name": "stdout",
     "output_type": "stream",
     "text": [
      "\n",
      "RMSE: 1.0063\n"
     ]
    },
    {
     "data": {
      "application/vnd.jupyter.widget-view+json": {
       "model_id": "4973a82c75ff4979be504f550b4d7cf8",
       "version_major": 2,
       "version_minor": 0
      },
      "text/plain": [
       "HBox(children=(FloatProgress(value=0.0, max=943.0), HTML(value='')))"
      ]
     },
     "metadata": {},
     "output_type": "display_data"
    },
    {
     "name": "stdout",
     "output_type": "stream",
     "text": [
      "\n",
      "RMSE: 1.0087\n"
     ]
    }
   ],
   "source": [
    "def VSearch(algo, train_data, val_data):\n",
    "    \n",
    "    alphas = [0.4, 0.45, 0.5, 0.55, 0.6, 0.65, 0.7, 0.75]\n",
    "    eps = 1e-6\n",
    "    \n",
    "    models = {}\n",
    "    best_alpha = None\n",
    "    for alpha in alphas:\n",
    "        model = PageRankRecommender(alpha = alpha, eps = eps, algo = algo)\n",
    "        model.fit(train_data, val_data = val_data)\n",
    "        model_predictions = model.test(val_data)\n",
    "        models[alpha] = accuracy.rmse(model_predictions)\n",
    "        if best_alpha is None or models[best_alpha] > models[alpha]:\n",
    "            best_alpha = alpha\n",
    "            \n",
    "    return best_alpha\n",
    "\n",
    "alpha_sharp = VSearch('sharp', train_data, val_data)\n",
    "alpha_vanilla = VSearch('pagerank', train_data, val_data)"
   ]
  },
  {
   "cell_type": "markdown",
   "metadata": {},
   "source": [
    "Poredimo rezultate tri algoritma: aproksimacija PageRank-a, običan PageRank i SVD ugrađen u modul *Surprise*. Parametar $\\alpha$ za prva dva algoritma je dobijen validacijom. Parametri za SVD su podrazumevani. To podešavanje je korišćeno na istom skupu podataka pri testiranju rađenom u okviru *Surprise* projekta (http://surpriselib.com/)."
   ]
  },
  {
   "cell_type": "code",
   "execution_count": 5,
   "metadata": {
    "scrolled": false
   },
   "outputs": [
    {
     "data": {
      "application/vnd.jupyter.widget-view+json": {
       "model_id": "6e0068033786474ba9bd87edcb308ace",
       "version_major": 2,
       "version_minor": 0
      },
      "text/plain": [
       "HBox(children=(FloatProgress(value=0.0, max=943.0), HTML(value='')))"
      ]
     },
     "metadata": {},
     "output_type": "display_data"
    },
    {
     "name": "stdout",
     "output_type": "stream",
     "text": [
      "\n"
     ]
    },
    {
     "data": {
      "application/vnd.jupyter.widget-view+json": {
       "model_id": "ed06fd504ee7419e91c93f34b41e1681",
       "version_major": 2,
       "version_minor": 0
      },
      "text/plain": [
       "HBox(children=(FloatProgress(value=0.0, max=943.0), HTML(value='')))"
      ]
     },
     "metadata": {},
     "output_type": "display_data"
    },
    {
     "name": "stdout",
     "output_type": "stream",
     "text": [
      "\n"
     ]
    }
   ],
   "source": [
    "train_data, test_data = model_selection.train_test_split(data, test_size = 0.15, random_state = 0)\n",
    "\n",
    "times = []\n",
    "\n",
    "pr_sharp_time_start = time()\n",
    "pr_sharp = PageRankRecommender(alpha = alpha_sharp, eps = 1e-6)\n",
    "pr_sharp.fit(train_data)\n",
    "pr_sharp_time_finish = time()\n",
    "times.append((pr_sharp_time_finish - pr_sharp_time_start) / 60)\n",
    "\n",
    "pr_vanilla_time_start = time()\n",
    "pr_vanilla = PageRankRecommender(alpha = alpha_vanilla, algo = 'pagerank')\n",
    "pr_vanilla.fit(train_data)\n",
    "pr_vanilla_time_finish = time()\n",
    "times.append((pr_vanilla_time_finish - pr_vanilla_time_start) / 60)\n",
    "\n",
    "svd_time_start = time()\n",
    "svd = SVD()\n",
    "svd.fit(train_data)\n",
    "svd_time_finish = time()\n",
    "times.append((svd_time_finish - svd_time_start) / 60)"
   ]
  },
  {
   "cell_type": "code",
   "execution_count": 6,
   "metadata": {},
   "outputs": [
    {
     "name": "stdout",
     "output_type": "stream",
     "text": [
      "Sharp PageRank approximation\n",
      "RMSE: 0.9799\n",
      "MAE:  0.7779\n",
      "\n",
      "PageRank\n",
      "RMSE: 0.9941\n",
      "MAE:  0.7931\n",
      "\n",
      "SVD\n",
      "RMSE: 0.9404\n",
      "MAE:  0.7417\n"
     ]
    }
   ],
   "source": [
    "rmse = []\n",
    "mae = []\n",
    "\n",
    "print('Sharp PageRank approximation')\n",
    "predictions = pr_sharp.test(test_data)\n",
    "rmse.append(accuracy.rmse(predictions))\n",
    "mae.append(accuracy.mae(predictions))\n",
    "print()\n",
    "\n",
    "print('PageRank')\n",
    "predictions = pr_vanilla.test(test_data)\n",
    "rmse.append(accuracy.rmse(predictions))\n",
    "mae.append(accuracy.mae(predictions))\n",
    "print()\n",
    "\n",
    "print('SVD')\n",
    "predictions = svd.test(test_data)\n",
    "rmse.append(accuracy.rmse(predictions))\n",
    "mae.append(accuracy.mae(predictions))"
   ]
  },
  {
   "cell_type": "code",
   "execution_count": 10,
   "metadata": {},
   "outputs": [
    {
     "data": {
      "image/png": "[encoded data removed]",
      "text/plain": [
       "<Figure size 360x288 with 1 Axes>"
      ]
     },
     "metadata": {
      "needs_background": "light"
     },
     "output_type": "display_data"
    },
    {
     "data": {
      "image/png": "[encoded data removed]",
      "text/plain": [
       "<Figure size 360x288 with 1 Axes>"
      ]
     },
     "metadata": {
      "needs_background": "light"
     },
     "output_type": "display_data"
    },
    {
     "data": {
      "image/png": "[encoded data removed]",
      "text/plain": [
       "<Figure size 360x288 with 1 Axes>"
      ]
     },
     "metadata": {
      "needs_background": "light"
     },
     "output_type": "display_data"
    }
   ],
   "source": [
    "names = ['Sharp PageRank', 'PageRank', 'SVD']\n",
    "colors = ['orange', 'C0', 'C3']\n",
    "\n",
    "plt.figure(figsize = (5, 4))\n",
    "plt.title('Vreme izvršavanja (minuti)')\n",
    "plt.bar(names, times, color = colors, width = 0.5)\n",
    "plt.show()\n",
    "\n",
    "plt.figure(figsize = (5, 4))\n",
    "plt.title('RMSE')\n",
    "plt.bar(names, rmse, color = colors, width = 0.5)\n",
    "plt.ylim(0.9, 1.0)\n",
    "plt.show()\n",
    "\n",
    "plt.figure(figsize = (5, 4))\n",
    "plt.title('MAE')\n",
    "plt.bar(names, mae, color = colors, width = 0.5)\n",
    "plt.ylim(0.7, 0.8)\n",
    "plt.show()"
   ]
  }
 ],
 "metadata": {
  "kernelspec": {
   "display_name": "Python 3",
   "language": "python",
   "name": "python3"
  },
  "language_info": {
   "codemirror_mode": {
    "name": "ipython",
    "version": 3
   },
   "file_extension": ".py",
   "mimetype": "text/x-python",
   "name": "python",
   "nbconvert_exporter": "python",
   "pygments_lexer": "ipython3",
   "version": "3.7.6"
  }
 },
 "nbformat": 4,
 "nbformat_minor": 4
}
